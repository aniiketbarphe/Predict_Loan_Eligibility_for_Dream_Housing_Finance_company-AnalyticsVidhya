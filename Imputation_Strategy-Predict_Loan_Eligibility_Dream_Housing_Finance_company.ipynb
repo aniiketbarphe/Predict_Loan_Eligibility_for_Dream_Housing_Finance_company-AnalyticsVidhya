{
 "cells": [
  {
   "cell_type": "markdown",
   "metadata": {
    "_uuid": "b3854c36b54da1331d0c551ce179f96a1f3ab0c0",
    "id": "bCDeVdJiMg9k"
   },
   "source": [
    "<div class=\"alert\" style=\"background-color:#fff; color:white; padding:0px 10px; border-radius:5px;\"><h1 style='margin:15px 15px; color:#006a79; font-size:40px'>Predict Loan Eligibility for Dream Housing Finance company- Imputation Strategy</h1>\n",
    "</div>\n"
   ]
  },
  {
   "cell_type": "markdown",
   "metadata": {},
   "source": [
    "#### Author:- Aniket B. Barphe\n",
    "#### LinkedIn Profile:- https://www.linkedin.com/in/aniiketbarphe/\n",
    "#### Platform:- Analytics Vidhya\n",
    "#### Problem Statement:- Predict Loan Eligibility for Dream Housing Finance company"
   ]
  },
  {
   "cell_type": "markdown",
   "metadata": {},
   "source": [
    "#### Startegy for Imputation of \"Credit_History\" in Train Dataset\n",
    "Loan_Status |Credit_History |Total_Count\n",
    "-----|-----|----- \n",
    "Y|1|378\n",
    "Y|0|7\n",
    "N|1|97\n",
    "N|0|82\n",
    "\n",
    "#####  If Loan Status = Yes then Credit_History =1 else Credit_History = 0\n",
    "##### train['Loan_Status'] = train['Loan_Status'].map({'Y':0, 'N':1})\n",
    "###### --------------------------------------------------------------------------------------------------------------------------------------------------------------------\n",
    "\n",
    "#### Startegy for Imputation of \"Self_Employed\" in Train Dataset\n",
    "Self_Employed |Credit_History |Total_Count\n",
    "-----|-----|----- \n",
    "Y|1|63\n",
    "Y|0|12\n",
    "N|1|387\n",
    "N|0|12\n",
    "\n",
    "#####  If  Credit_History =1 then Self_Employed =No else Self_Employed = Yes\n",
    "##### train['Self_Employed'] = train['Self_Employed'].map({'No':0, 'Yes':1})\n",
    "\n",
    "###### --------------------------------------------------------------------------------------------------------------------------------------------------------------------\n",
    "\n",
    "\n",
    "#### Startegy1 for Imputation of \"Dependents\" in Train Dataset\n",
    "#### This startegy Fails as no blanks in Dependent\n",
    "Married |Num_Dependent |Total_Count\n",
    "-----|-----|----- \n",
    "Y|0|0\n",
    "Y|1|79\n",
    "Y|2|186\n",
    "Y|3|132\n",
    "N|0|0\n",
    "N|1|23\n",
    "N|2|16\n",
    "N|3|21\n",
    "\n",
    "#####  If  Married  = Yes then Dependent  = 2 \n",
    "#####  If  Married  = No then Dependent  =  1 \n",
    "#####  If Credit_History = 1 then Dependent  =  0\n",
    "\n",
    "\n",
    "#### Startegy2 for Imputation of \"Dependents\" in Train Dataset\n",
    "\n",
    "Credit_History |Num_Dependent |Total_Count\n",
    "-----|-----|----- \n",
    "Y|0|45\n",
    "Y|1|14\n",
    "Y|2|14\n",
    "Y|3|11\n",
    "N|0|271\n",
    "N|1|76\n",
    "N|2|81\n",
    "N|3|37\n"
   ]
  },
  {
   "cell_type": "code",
   "execution_count": null,
   "metadata": {},
   "outputs": [],
   "source": []
  }
 ],
 "metadata": {
  "kernelspec": {
   "display_name": "Python 3",
   "language": "python",
   "name": "python3"
  },
  "language_info": {
   "codemirror_mode": {
    "name": "ipython",
    "version": 3
   },
   "file_extension": ".py",
   "mimetype": "text/x-python",
   "name": "python",
   "nbconvert_exporter": "python",
   "pygments_lexer": "ipython3",
   "version": "3.8.5"
  }
 },
 "nbformat": 4,
 "nbformat_minor": 4
}
